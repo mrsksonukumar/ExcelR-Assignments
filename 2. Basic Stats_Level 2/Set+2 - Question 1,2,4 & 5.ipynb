{
 "cells": [
  {
   "cell_type": "code",
   "execution_count": 2,
   "id": "b26abd90",
   "metadata": {},
   "outputs": [],
   "source": [
    "import pandas as pd\n",
    "import numpy as np\n",
    "import matplotlib.pyplot as plt\n",
    "import scipy.stats as stats\n",
    "import seaborn as sns\n",
    "import statsmodels.api as smf\n",
    "import warnings\n",
    "warnings.filterwarnings('ignore')"
   ]
  },
  {
   "cell_type": "markdown",
   "id": "895d82b8",
   "metadata": {},
   "source": [
    "# Question No. 1"
   ]
  },
  {
   "cell_type": "code",
   "execution_count": 5,
   "id": "dc95a17c",
   "metadata": {},
   "outputs": [
    {
     "name": "stdout",
     "output_type": "stream",
     "text": [
      "The likelihood that the service manager won't fulfill his promise is 0.26599\n"
     ]
    }
   ],
   "source": [
    "# After 10 minutes of drop-off, the servicing job will start, thus 45+10 will now take longer than normal, therefore the new estimate is 55 minutes, with a probability that it may take longer than an hour to finish.\n",
    "\n",
    "µ = 55\n",
    "std = 8\n",
    "\n",
    "q1 = stats.norm.sf(60, loc = µ, scale = std )\n",
    "\n",
    "print(\"The likelihood that the service manager won't fulfill his promise is\", np.round(q1,5))"
   ]
  },
  {
   "cell_type": "markdown",
   "id": "e03d8c1d",
   "metadata": {},
   "source": [
    "# Question No. 2"
   ]
  },
  {
   "cell_type": "code",
   "execution_count": 19,
   "id": "442574aa",
   "metadata": {},
   "outputs": [
    {
     "name": "stdout",
     "output_type": "stream",
     "text": [
      "1. The likelihood of an employee between the ages of 38 and 44 is 34.13 %\n",
      "2. The probability of employee age more than 44 is 15.87 %\n",
      "3. Answer: False\n",
      "4. The centre would anticipate that a training programme for staff under the age of 30 would draw around 36.0 employees\n"
     ]
    }
   ],
   "source": [
    "mean = 38\n",
    "std_1 = 6\n",
    "\n",
    "q2_lessthan_38 = stats.norm.cdf(38, loc = mean, scale = std_1)\n",
    "q2_lessthan_44 = stats.norm.cdf(44, loc = mean, scale = std_1)\n",
    "\n",
    "q2_between_38_and_44 = (q2_lessthan_44 - q2_lessthan_38)\n",
    "print('1. The likelihood of an employee between the ages of 38 and 44 is',np.round(q2_between_38_and_44*100,2),'%')\n",
    "\n",
    "q2_morethan_44 = 1-stats.norm.cdf(44, loc = mean, scale = std_1)\n",
    "print(\"2. The probability of employee age more than 44 is\",np.round(q2_morethan_44*100,2),'%')\n",
    "\n",
    "true_or_false = (q2_morethan_44 > q2_between_38_and_44)\n",
    "print('3. Answer:',true_or_false)\n",
    "\n",
    "q2b = stats.norm.cdf(30, loc = mean, scale = std_1)\n",
    "print(\"4. The centre would anticipate that a training programme for staff under the age of 30 would draw around\"\n",
    "      ,np.round((q2b*400),0),'employees')"
   ]
  },
  {
   "cell_type": "markdown",
   "id": "d8cb3c72",
   "metadata": {},
   "source": [
    "# Question No. 4"
   ]
  },
  {
   "cell_type": "code",
   "execution_count": 22,
   "id": "9c922904",
   "metadata": {},
   "outputs": [
    {
     "name": "stdout",
     "output_type": "stream",
     "text": [
      "The probability that the random variable will take a value between the two values of a and b, which are symmetric about the mean, is 0.99: 48.5 151.5\n"
     ]
    }
   ],
   "source": [
    "#From the data it is given that\n",
    "µ = 100\n",
    "std = 20\n",
    "# p(a<x<b)\n",
    "#Two find two values, a and b, symmetric about the mean, such that the probability of the random variable taking a value between them is 0.99.\n",
    "\n",
    "#From the above details,we have to exclude .005% area from each left and right tails. Hence, we want to find the .005th and the .995th percentiles Z score values.\n",
    "\n",
    "#Z value for 0.005 percentiles\n",
    "z1 = np.round(stats.norm.ppf(0.005),4)\n",
    "z1\n",
    "\n",
    "#Z value for .99 percentiles\n",
    "z2 = np.round(stats.norm.ppf(0.995),4)\n",
    "z2\n",
    "\n",
    "#z = (x_bar - µ) / std\n",
    "#x_bar = (z*std) + µ\n",
    "\n",
    "a = np.round((z1*std)+µ,1)\n",
    "b = np.round((z2*std)+µ,1)\n",
    "print('The probability that the random variable will take a value between the two values of a and b, which are symmetric about the mean, is 0.99:',a,b)\n"
   ]
  },
  {
   "cell_type": "markdown",
   "id": "c81be6f2",
   "metadata": {},
   "source": [
    "# Question No. 5"
   ]
  },
  {
   "cell_type": "code",
   "execution_count": 6,
   "id": "d41df70e",
   "metadata": {},
   "outputs": [
    {
     "name": "stdout",
     "output_type": "stream",
     "text": [
      "The Mean profit of both the divison: 12 Million$\n",
      "The Mean profit of both division: 54.0 Crore Rupees\n",
      "The Standard Deviation of both division: 5.0 Million$\n",
      "The Standard Deviation of both division: 22.5 Crore Rupees\n"
     ]
    }
   ],
   "source": [
    "# Combining Mean profit of both division for company = mean_1+mean_2\n",
    "\n",
    "mean_1 = 5\n",
    "mean_2 = 7\n",
    "\n",
    "total_mean = (mean_1+mean_2) #Given, 1USD = Rs. 45\n",
    "print('The Mean profit of both the divison:', total_mean, 'Million$')\n",
    "print('The Mean profit of both division:', (total_mean*45)/10, 'Crore Rupees')\n",
    "\n",
    "# Combining Standard Deviation = (std1^2 + std2^2)^1/2\n",
    "\n",
    "std1 = 3**2\n",
    "std2 = 4**2\n",
    "\n",
    "std = np.sqrt(std1+std2)\n",
    "print('The Standard Deviation of both division:', std, 'Million$')\n",
    "print('The Standard Deviation of both division:', (std*45)/10, 'Crore Rupees')"
   ]
  },
  {
   "cell_type": "markdown",
   "id": "111aad7e",
   "metadata": {},
   "source": [
    "##### A. Specify a Rupee range (centered on the mean) such that it contains 95% probability for the annual profit of the company."
   ]
  },
  {
   "cell_type": "code",
   "execution_count": 8,
   "id": "c7913e00",
   "metadata": {},
   "outputs": [
    {
     "name": "stdout",
     "output_type": "stream",
     "text": [
      "Rupee Ranges from 2.2 to 21.8 Million$ in Annual profit of the Company 95% of the time\n",
      "Rupee Ranges from 9.900000000000002 to 98.1 Crore Rupees in Annual profit of the Company 95% of the time\n"
     ]
    }
   ],
   "source": [
    "r1, r2 = np.round(stats.norm.interval(0.95, total_mean, std),2)\n",
    "print('Rupee Ranges from',r1,'to',r2,'Million$ in Annual profit of the Company 95% of the time')\n",
    "print('Rupee Ranges from',np.divide(np.multiply(r1,45),10),'to',np.divide(np.multiply(r2,45),10),'Crore Rupees in Annual profit of the Company 95% of the time')\n"
   ]
  },
  {
   "cell_type": "markdown",
   "id": "973ff1f0",
   "metadata": {},
   "source": [
    "#### B. Specify the 5th percentile of profit (in Rupees) for the company"
   ]
  },
  {
   "cell_type": "code",
   "execution_count": 10,
   "id": "28d52b15",
   "metadata": {},
   "outputs": [
    {
     "name": "stdout",
     "output_type": "stream",
     "text": [
      "The 5th percentile of Profit for the company is 3.78 Million$\n",
      "The 5th percentile of Profit for the company is 17.0 Crore Rupees\n"
     ]
    }
   ],
   "source": [
    "# Z value  = X_bar - Mew / Std pop \n",
    "# for percentile, X_percentile = (Zvalue * Std pop) + Mew\n",
    "Z_05_ = stats.norm.ppf(0.05)\n",
    "Fifth_percentile = (Z_05_ * std) + total_mean\n",
    "print('The 5th percentile of Profit for the company is',np.round(Fifth_percentile,2),'Million$')\n",
    "print('The 5th percentile of Profit for the company is',np.round((Fifth_percentile*45)/10,),'Crore Rupees')"
   ]
  },
  {
   "cell_type": "markdown",
   "id": "9582564b",
   "metadata": {},
   "source": [
    "#### C. Which of the two divisions has a larger probability of making a loss in a given year?"
   ]
  },
  {
   "cell_type": "code",
   "execution_count": 11,
   "id": "302b57dd",
   "metadata": {},
   "outputs": [
    {
     "name": "stdout",
     "output_type": "stream",
     "text": [
      "The Probability of Division #1 making a loss is 4.78 %\n",
      "The Probability of Division #2 making a loss is 4.01 %\n",
      "The Division 1 has a larger Probability of making a loss\n"
     ]
    }
   ],
   "source": [
    "# The probability of Division #1 making a loss\n",
    "print('The Probability of Division #1 making a loss is',np.round((stats.norm.cdf(0,5,3))*100,2),'%')\n",
    "\n",
    "# The probability of Division #2 making a loss\n",
    "print('The Probability of Division #2 making a loss is',np.round((stats.norm.cdf(0,7,4))*100,2),'%')\n",
    "\n",
    "Division_1 = (stats.norm.cdf(0,5,3))*100\n",
    "Division_2 = (stats.norm.cdf(0,7,4))*100\n",
    "\n",
    "if Division_1>Division_2:\n",
    "    print('The Division 1 has a larger Probability of making a loss')\n",
    "else:\n",
    "          print('The Division 2 has a larger Porbability of making a loss')"
   ]
  },
  {
   "cell_type": "code",
   "execution_count": null,
   "id": "ecbfc203",
   "metadata": {},
   "outputs": [],
   "source": []
  }
 ],
 "metadata": {
  "kernelspec": {
   "display_name": "Python 3 (ipykernel)",
   "language": "python",
   "name": "python3"
  },
  "language_info": {
   "codemirror_mode": {
    "name": "ipython",
    "version": 3
   },
   "file_extension": ".py",
   "mimetype": "text/x-python",
   "name": "python",
   "nbconvert_exporter": "python",
   "pygments_lexer": "ipython3",
   "version": "3.9.7"
  }
 },
 "nbformat": 4,
 "nbformat_minor": 5
}
