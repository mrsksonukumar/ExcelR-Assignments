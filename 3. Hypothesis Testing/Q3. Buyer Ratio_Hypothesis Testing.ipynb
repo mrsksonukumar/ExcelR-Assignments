{
 "cells": [
  {
   "cell_type": "code",
   "execution_count": 1,
   "id": "c4bffa0e",
   "metadata": {},
   "outputs": [],
   "source": [
    "import pandas as pd \n",
    "import numpy as np\n",
    "from scipy import stats\n",
    "from scipy.stats import norm\n",
    "from scipy.stats import chi2_contingency"
   ]
  },
  {
   "cell_type": "code",
   "execution_count": 2,
   "id": "cd4cb420",
   "metadata": {
    "scrolled": true
   },
   "outputs": [
    {
     "name": "stdout",
     "output_type": "stream",
     "text": [
      " Volume in drive C has no label.\n",
      " Volume Serial Number is FEA4-9C8F\n",
      "\n",
      " Directory of C:\\Users\\mrsks\\OneDrive\\Desktop\\Data Science - Somnath\\Assignments - Final\\3. Hypothesis Testing\n",
      "\n",
      "20-07-2022  18:16    <DIR>          .\n",
      "20-07-2022  17:48    <DIR>          ..\n",
      "20-07-2022  18:16    <DIR>          .ipynb_checkpoints\n",
      "20-07-2022  17:48                87 BuyerRatio.csv\n",
      "20-07-2022  17:48            13,423 Costomer+OrderForm.csv\n",
      "20-07-2022  17:48               525 Cutlets.csv\n",
      "20-07-2022  17:48            61,688 Hypothesis_Testing_Assignment.pptx\n",
      "20-07-2022  17:48             3,487 LabTAT.csv\n",
      "20-07-2022  18:04            47,438 Q1. Cutlets_Hypothesis Testing.ipynb\n",
      "20-07-2022  18:14            17,060 Q2. LabTAT_Hypothesis Testing.ipynb\n",
      "20-07-2022  18:16                72 Q3. Buyer Ratio_Hypothesis Testing.ipynb\n",
      "               8 File(s)        143,780 bytes\n",
      "               3 Dir(s)  419,915,546,624 bytes free\n"
     ]
    }
   ],
   "source": [
    "ls"
   ]
  },
  {
   "cell_type": "code",
   "execution_count": 5,
   "id": "25e8ce1e",
   "metadata": {},
   "outputs": [
    {
     "data": {
      "text/html": [
       "<div>\n",
       "<style scoped>\n",
       "    .dataframe tbody tr th:only-of-type {\n",
       "        vertical-align: middle;\n",
       "    }\n",
       "\n",
       "    .dataframe tbody tr th {\n",
       "        vertical-align: top;\n",
       "    }\n",
       "\n",
       "    .dataframe thead th {\n",
       "        text-align: right;\n",
       "    }\n",
       "</style>\n",
       "<table border=\"1\" class=\"dataframe\">\n",
       "  <thead>\n",
       "    <tr style=\"text-align: right;\">\n",
       "      <th></th>\n",
       "      <th>Observed Values</th>\n",
       "      <th>East</th>\n",
       "      <th>West</th>\n",
       "      <th>North</th>\n",
       "      <th>South</th>\n",
       "    </tr>\n",
       "  </thead>\n",
       "  <tbody>\n",
       "    <tr>\n",
       "      <th>0</th>\n",
       "      <td>Males</td>\n",
       "      <td>50</td>\n",
       "      <td>142</td>\n",
       "      <td>131</td>\n",
       "      <td>70</td>\n",
       "    </tr>\n",
       "    <tr>\n",
       "      <th>1</th>\n",
       "      <td>Females</td>\n",
       "      <td>435</td>\n",
       "      <td>1523</td>\n",
       "      <td>1356</td>\n",
       "      <td>750</td>\n",
       "    </tr>\n",
       "  </tbody>\n",
       "</table>\n",
       "</div>"
      ],
      "text/plain": [
       "  Observed Values  East  West  North  South\n",
       "0           Males    50   142    131     70\n",
       "1         Females   435  1523   1356    750"
      ]
     },
     "execution_count": 5,
     "metadata": {},
     "output_type": "execute_result"
    }
   ],
   "source": [
    "buyerratio = pd.read_csv(\"BuyerRatio.csv\")\n",
    "buyerratio"
   ]
  },
  {
   "cell_type": "code",
   "execution_count": 6,
   "id": "a84c44f9",
   "metadata": {},
   "outputs": [
    {
     "data": {
      "text/html": [
       "<div>\n",
       "<style scoped>\n",
       "    .dataframe tbody tr th:only-of-type {\n",
       "        vertical-align: middle;\n",
       "    }\n",
       "\n",
       "    .dataframe tbody tr th {\n",
       "        vertical-align: top;\n",
       "    }\n",
       "\n",
       "    .dataframe thead th {\n",
       "        text-align: right;\n",
       "    }\n",
       "</style>\n",
       "<table border=\"1\" class=\"dataframe\">\n",
       "  <thead>\n",
       "    <tr style=\"text-align: right;\">\n",
       "      <th></th>\n",
       "      <th>East</th>\n",
       "      <th>West</th>\n",
       "      <th>North</th>\n",
       "      <th>South</th>\n",
       "    </tr>\n",
       "  </thead>\n",
       "  <tbody>\n",
       "    <tr>\n",
       "      <th>0</th>\n",
       "      <td>50</td>\n",
       "      <td>142</td>\n",
       "      <td>131</td>\n",
       "      <td>70</td>\n",
       "    </tr>\n",
       "    <tr>\n",
       "      <th>1</th>\n",
       "      <td>435</td>\n",
       "      <td>1523</td>\n",
       "      <td>1356</td>\n",
       "      <td>750</td>\n",
       "    </tr>\n",
       "  </tbody>\n",
       "</table>\n",
       "</div>"
      ],
      "text/plain": [
       "   East  West  North  South\n",
       "0    50   142    131     70\n",
       "1   435  1523   1356    750"
      ]
     },
     "execution_count": 6,
     "metadata": {},
     "output_type": "execute_result"
    }
   ],
   "source": [
    "buyerratio = buyerratio.drop('Observed Values', axis=1)\n",
    "buyerratio"
   ]
  },
  {
   "cell_type": "code",
   "execution_count": 7,
   "id": "c5494bd6",
   "metadata": {},
   "outputs": [],
   "source": [
    "stat,p,dof,expected=stats.chi2_contingency(buyerratio)"
   ]
  },
  {
   "cell_type": "code",
   "execution_count": 8,
   "id": "78ca94e3",
   "metadata": {},
   "outputs": [],
   "source": [
    "alpha =0.05"
   ]
  },
  {
   "cell_type": "code",
   "execution_count": 9,
   "id": "e03d613e",
   "metadata": {},
   "outputs": [
    {
     "name": "stdout",
     "output_type": "stream",
     "text": [
      "Chi Square test value is  0.6603094907091882\n",
      "Null hypothesis holds true\n"
     ]
    }
   ],
   "source": [
    "print(\"Chi Square test value is \", p)\n",
    "if p<=alpha:\n",
    "    print(\"Reject Null hypothesis\")\n",
    "else:\n",
    "    print(\"Null hypothesis holds true\")"
   ]
  },
  {
   "cell_type": "code",
   "execution_count": null,
   "id": "87bfba7e",
   "metadata": {},
   "outputs": [],
   "source": []
  }
 ],
 "metadata": {
  "kernelspec": {
   "display_name": "Python 3 (ipykernel)",
   "language": "python",
   "name": "python3"
  },
  "language_info": {
   "codemirror_mode": {
    "name": "ipython",
    "version": 3
   },
   "file_extension": ".py",
   "mimetype": "text/x-python",
   "name": "python",
   "nbconvert_exporter": "python",
   "pygments_lexer": "ipython3",
   "version": "3.9.7"
  }
 },
 "nbformat": 4,
 "nbformat_minor": 5
}
