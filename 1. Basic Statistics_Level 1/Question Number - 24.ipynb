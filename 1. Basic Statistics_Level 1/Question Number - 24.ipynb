{
 "cells": [
  {
   "cell_type": "code",
   "execution_count": 2,
   "id": "dfa3ffc2",
   "metadata": {},
   "outputs": [],
   "source": [
    "from scipy import stats\n",
    "from scipy.stats import norm"
   ]
  },
  {
   "cell_type": "code",
   "execution_count": 3,
   "id": "1e694e40",
   "metadata": {},
   "outputs": [],
   "source": [
    "# Population Mean = 270 days\n",
    "# Sample Mean = 260 days\n",
    "# Sample Standard Deviation = 90 days\n",
    "# Sample n = 18 bulbs\n",
    "\n",
    "# therefore df = n-1 = 17"
   ]
  },
  {
   "cell_type": "code",
   "execution_count": 4,
   "id": "4544157d",
   "metadata": {},
   "outputs": [
    {
     "data": {
      "text/plain": [
       "-0.4714045207910317"
      ]
     },
     "execution_count": 4,
     "metadata": {},
     "output_type": "execute_result"
    }
   ],
   "source": [
    "# Let Ho = Average life of Bulb >= 260 days\n",
    "# Let H1 = Average life of Bulb < 260 days\n",
    "\n",
    "# Calculating t-score at x=260, where t = (s_mean - P_mean)/(s_SD/sqrt(n))\n",
    "\n",
    "t = (260-270)/(90/18**0.5)\n",
    "t"
   ]
  },
  {
   "cell_type": "code",
   "execution_count": 5,
   "id": "8777c810",
   "metadata": {},
   "outputs": [
    {
     "data": {
      "text/plain": [
       "0.32167411684460556"
      ]
     },
     "execution_count": 5,
     "metadata": {},
     "output_type": "execute_result"
    }
   ],
   "source": [
    "# Calculating P(X>=260) for Ho\n",
    "# p_value=1-stats.t.cdf(abs(t_score),df=n-1)\n",
    "\n",
    "p_value = 1-stats.t.cdf(abs(-0.4714), df=17)\n",
    "p_value"
   ]
  },
  {
   "cell_type": "code",
   "execution_count": 6,
   "id": "0222b8c2",
   "metadata": {},
   "outputs": [],
   "source": [
    "# Probability that 18 randomly selected bulbs would have an average life of no more than 260 days is 32.17% \n",
    "#Assuming significance value α = 0.05 (Standard Value)\n",
    "#(If p_value < α ; Reject Ho and accept Ha or vice-versa)Thus, as p-value > α ; Accept Ho i.e. \n",
    "#The CEO claims are false and the avg life of bulb > 260 days\n"
   ]
  },
  {
   "cell_type": "code",
   "execution_count": 7,
   "id": "a9a3ba43",
   "metadata": {},
   "outputs": [
    {
     "data": {
      "text/plain": [
       "0.02475124687812502"
      ]
     },
     "execution_count": 7,
     "metadata": {},
     "output_type": "execute_result"
    }
   ],
   "source": [
    "1 -(1 - 0.005)**5"
   ]
  },
  {
   "cell_type": "code",
   "execution_count": null,
   "id": "e12bf4a0",
   "metadata": {},
   "outputs": [],
   "source": []
  }
 ],
 "metadata": {
  "kernelspec": {
   "display_name": "Python 3 (ipykernel)",
   "language": "python",
   "name": "python3"
  },
  "language_info": {
   "codemirror_mode": {
    "name": "ipython",
    "version": 3
   },
   "file_extension": ".py",
   "mimetype": "text/x-python",
   "name": "python",
   "nbconvert_exporter": "python",
   "pygments_lexer": "ipython3",
   "version": "3.9.7"
  }
 },
 "nbformat": 4,
 "nbformat_minor": 5
}
