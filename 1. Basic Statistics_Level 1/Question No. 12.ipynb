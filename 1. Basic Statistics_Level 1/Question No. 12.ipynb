{
 "cells": [
  {
   "cell_type": "code",
   "execution_count": 4,
   "id": "05d854ca",
   "metadata": {},
   "outputs": [],
   "source": [
    "import pandas as pd\n",
    "import numpy as np\n",
    "import matplotlib.pyplot as plt\n",
    "import seaborn as sn\n",
    "%matplotlib inline\n"
   ]
  },
  {
   "cell_type": "code",
   "execution_count": 10,
   "id": "0c93fe53",
   "metadata": {},
   "outputs": [],
   "source": [
    "scores_obtained = pd.Series([34,36,36,38,38,39,39,40,40,41,41,41,41,42,42,45,49,56])"
   ]
  },
  {
   "cell_type": "markdown",
   "id": "3bc60b8e",
   "metadata": {},
   "source": [
    "# Calculating Mean"
   ]
  },
  {
   "cell_type": "code",
   "execution_count": 11,
   "id": "9ec23e0e",
   "metadata": {},
   "outputs": [
    {
     "data": {
      "text/plain": [
       "41.0"
      ]
     },
     "execution_count": 11,
     "metadata": {},
     "output_type": "execute_result"
    }
   ],
   "source": [
    "scores_obtained.mean()"
   ]
  },
  {
   "cell_type": "markdown",
   "id": "18fa957c",
   "metadata": {},
   "source": [
    "# Calculating Median"
   ]
  },
  {
   "cell_type": "code",
   "execution_count": 12,
   "id": "2f6d063c",
   "metadata": {},
   "outputs": [
    {
     "data": {
      "text/plain": [
       "40.5"
      ]
     },
     "execution_count": 12,
     "metadata": {},
     "output_type": "execute_result"
    }
   ],
   "source": [
    "scores_obtained.median()"
   ]
  },
  {
   "cell_type": "markdown",
   "id": "a4d38cfc",
   "metadata": {},
   "source": [
    "# Calculating Variance"
   ]
  },
  {
   "cell_type": "code",
   "execution_count": 13,
   "id": "da3b93b3",
   "metadata": {},
   "outputs": [
    {
     "data": {
      "text/plain": [
       "25.529411764705884"
      ]
     },
     "execution_count": 13,
     "metadata": {},
     "output_type": "execute_result"
    }
   ],
   "source": [
    "scores_obtained.var()"
   ]
  },
  {
   "cell_type": "markdown",
   "id": "0e5ff1d0",
   "metadata": {},
   "source": [
    "# Calculating Standard Deviation "
   ]
  },
  {
   "cell_type": "code",
   "execution_count": 14,
   "id": "904d5872",
   "metadata": {},
   "outputs": [
    {
     "data": {
      "text/plain": [
       "5.05266382858645"
      ]
     },
     "execution_count": 14,
     "metadata": {},
     "output_type": "execute_result"
    }
   ],
   "source": [
    "scores_obtained.std()"
   ]
  },
  {
   "cell_type": "markdown",
   "id": "4095255d",
   "metadata": {},
   "source": [
    "# Boxplot Fig."
   ]
  },
  {
   "cell_type": "code",
   "execution_count": 31,
   "id": "0fa61519",
   "metadata": {},
   "outputs": [
    {
     "data": {
      "image/png": "[encoded data removed]",
      "text/plain": [
       "<Figure size 720x504 with 1 Axes>"
      ]
     },
     "metadata": {
      "needs_background": "light"
     },
     "output_type": "display_data"
    }
   ],
   "source": [
    "x = scores_obtained\n",
    "fig = plt.figure(figsize =(10, 7))\n",
    "\n",
    "# Creating plot\n",
    "plt.boxplot(x)\n",
    " \n",
    "# show plot\n",
    "plt.show()"
   ]
  }
 ],
 "metadata": {
  "kernelspec": {
   "display_name": "Python 3 (ipykernel)",
   "language": "python",
   "name": "python3"
  },
  "language_info": {
   "codemirror_mode": {
    "name": "ipython",
    "version": 3
   },
   "file_extension": ".py",
   "mimetype": "text/x-python",
   "name": "python",
   "nbconvert_exporter": "python",
   "pygments_lexer": "ipython3",
   "version": "3.9.7"
  }
 },
 "nbformat": 4,
 "nbformat_minor": 5
}
