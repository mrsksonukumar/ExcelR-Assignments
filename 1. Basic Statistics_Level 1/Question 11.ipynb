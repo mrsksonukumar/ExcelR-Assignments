{
 "cells": [
  {
   "cell_type": "code",
   "execution_count": 3,
   "id": "5fb33ee6",
   "metadata": {},
   "outputs": [],
   "source": [
    "import numpy as np\n",
    "import pandas as pd\n",
    "import matplotlib.pyplot as plt\n",
    "import seaborn as sns\n",
    "import statistics\n",
    "from scipy import stats\n",
    "from scipy.stats import norm\n",
    "%matplotlib inline\n",
    "\n"
   ]
  },
  {
   "cell_type": "markdown",
   "id": "bb923d81",
   "metadata": {},
   "source": [
    "# Average weight of Adult in Mexico with 94% Confidence Interval"
   ]
  },
  {
   "cell_type": "code",
   "execution_count": 4,
   "id": "2c505a9f",
   "metadata": {},
   "outputs": [
    {
     "data": {
      "text/plain": [
       "(198.738325292158, 201.261674707842)"
      ]
     },
     "execution_count": 4,
     "metadata": {},
     "output_type": "execute_result"
    }
   ],
   "source": [
    "stats.norm.interval(0.94,200,30/(2000**0.5))"
   ]
  },
  {
   "cell_type": "markdown",
   "id": "9d024501",
   "metadata": {},
   "source": [
    "# Average weight of Adult in Mexico with 98% Confidence Interval"
   ]
  },
  {
   "cell_type": "code",
   "execution_count": 5,
   "id": "92e9a612",
   "metadata": {},
   "outputs": [
    {
     "data": {
      "text/plain": [
       "(198.43943840429978, 201.56056159570022)"
      ]
     },
     "execution_count": 5,
     "metadata": {},
     "output_type": "execute_result"
    }
   ],
   "source": [
    "stats.norm.interval(0.98,200,30/(2000**0.5))"
   ]
  },
  {
   "cell_type": "markdown",
   "id": "98ef1c2d",
   "metadata": {},
   "source": [
    "# Average weight of Adult in Mexico with 96% Confidence Interval"
   ]
  },
  {
   "cell_type": "code",
   "execution_count": 6,
   "id": "1669618a",
   "metadata": {},
   "outputs": [
    {
     "data": {
      "text/plain": [
       "(198.62230334813333, 201.37769665186667)"
      ]
     },
     "execution_count": 6,
     "metadata": {},
     "output_type": "execute_result"
    }
   ],
   "source": [
    "stats.norm.interval(0.96,200,30/(2000**0.5))"
   ]
  },
  {
   "cell_type": "code",
   "execution_count": null,
   "id": "c3a0bea3",
   "metadata": {},
   "outputs": [],
   "source": []
  }
 ],
 "metadata": {
  "kernelspec": {
   "display_name": "Python 3 (ipykernel)",
   "language": "python",
   "name": "python3"
  },
  "language_info": {
   "codemirror_mode": {
    "name": "ipython",
    "version": 3
   },
   "file_extension": ".py",
   "mimetype": "text/x-python",
   "name": "python",
   "nbconvert_exporter": "python",
   "pygments_lexer": "ipython3",
   "version": "3.9.7"
  }
 },
 "nbformat": 4,
 "nbformat_minor": 5
}
